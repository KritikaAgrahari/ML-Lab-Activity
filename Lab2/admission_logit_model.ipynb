{
 "cells": [
  {
   "cell_type": "code",
   "execution_count": 1,
   "id": "9ca3f2a4",
   "metadata": {},
   "outputs": [],
   "source": [
    "import pandas as pd\n",
    "import statsmodels.api as sm\n",
    "import numpy as np"
   ]
  },
  {
   "cell_type": "code",
   "execution_count": 2,
   "id": "0c484281",
   "metadata": {},
   "outputs": [
    {
     "name": "stdout",
     "output_type": "stream",
     "text": [
      "   admit    gre   gpa  rank\n",
      "0    0.0  380.0  3.61   3.0\n",
      "1    1.0  660.0  3.67   3.0\n",
      "2    1.0  800.0  4.00   1.0\n",
      "3    1.0  640.0  3.19   4.0\n",
      "4    0.0  520.0  2.93   4.0\n"
     ]
    }
   ],
   "source": [
    "# 1. Load the .dta file\n",
    "data = pd.read_stata(\"binary.dta\") \n",
    "print(data.head())  "
   ]
  },
  {
   "cell_type": "code",
   "execution_count": 4,
   "id": "5fa4678d",
   "metadata": {},
   "outputs": [
    {
     "name": "stdout",
     "output_type": "stream",
     "text": [
      "\n",
      "--- Data Info ---\n",
      "<class 'pandas.core.frame.DataFrame'>\n",
      "RangeIndex: 400 entries, 0 to 399\n",
      "Data columns (total 4 columns):\n",
      " #   Column  Non-Null Count  Dtype  \n",
      "---  ------  --------------  -----  \n",
      " 0   admit   400 non-null    float32\n",
      " 1   gre     400 non-null    float32\n",
      " 2   gpa     400 non-null    float32\n",
      " 3   rank    400 non-null    float32\n",
      "dtypes: float32(4)\n",
      "memory usage: 6.4 KB\n",
      "None\n"
     ]
    }
   ],
   "source": [
    "# 2. Explore the data\n",
    "print(\"\\n--- Data Info ---\")\n",
    "print(data.info())"
   ]
  },
  {
   "cell_type": "code",
   "execution_count": 5,
   "id": "c9bb542e",
   "metadata": {},
   "outputs": [
    {
     "name": "stdout",
     "output_type": "stream",
     "text": [
      "\n",
      "--- Value counts for admit ---\n",
      "admit\n",
      "0.0    273\n",
      "1.0    127\n",
      "Name: count, dtype: int64\n"
     ]
    }
   ],
   "source": [
    "print(\"\\n--- Value counts for admit ---\")\n",
    "print(data['admit'].value_counts())\n"
   ]
  },
  {
   "cell_type": "code",
   "execution_count": 6,
   "id": "a15d1c0c",
   "metadata": {},
   "outputs": [
    {
     "name": "stdout",
     "output_type": "stream",
     "text": [
      "\n",
      "--- Mean GRE & GPA by Admission ---\n",
      "              gre       gpa\n",
      "admit                      \n",
      "0.0    573.186829  3.343700\n",
      "1.0    618.897644  3.489213\n"
     ]
    }
   ],
   "source": [
    "print(\"\\n--- Mean GRE & GPA by Admission ---\")\n",
    "print(data.groupby('admit')[['gre', 'gpa']].mean())"
   ]
  },
  {
   "cell_type": "code",
   "execution_count": 7,
   "id": "f63da445",
   "metadata": {},
   "outputs": [
    {
     "name": "stdout",
     "output_type": "stream",
     "text": [
      "\n",
      "--- Rank Frequency ---\n",
      "rank\n",
      "2.0    151\n",
      "3.0    121\n",
      "4.0     67\n",
      "1.0     61\n",
      "Name: count, dtype: int64\n"
     ]
    }
   ],
   "source": [
    "print(\"\\n--- Rank Frequency ---\")\n",
    "print(data['rank'].value_counts())"
   ]
  },
  {
   "cell_type": "code",
   "execution_count": 12,
   "id": "a5598f83",
   "metadata": {},
   "outputs": [
    {
     "name": "stdout",
     "output_type": "stream",
     "text": [
      "Index(['admit', 'gre', 'gpa', 'rank_2.0', 'rank_3.0', 'rank_4.0'], dtype='object')\n"
     ]
    }
   ],
   "source": [
    "print(data.columns)\n"
   ]
  },
  {
   "cell_type": "code",
   "execution_count": 16,
   "id": "93b8fe87",
   "metadata": {},
   "outputs": [],
   "source": [
    "# Select predictors (they already exist in your data)\n",
    "X = data[['gre', 'gpa', 'rank_2.0', 'rank_3.0', 'rank_4.0']]\n",
    "X = sm.add_constant(X)  # add intercept\n",
    "y = data['admit']"
   ]
  },
  {
   "cell_type": "code",
   "execution_count": 19,
   "id": "0b4b559c",
   "metadata": {},
   "outputs": [
    {
     "name": "stdout",
     "output_type": "stream",
     "text": [
      "admit       0\n",
      "gre         0\n",
      "gpa         0\n",
      "rank_2.0    0\n",
      "rank_3.0    0\n",
      "rank_4.0    0\n",
      "dtype: int64\n"
     ]
    }
   ],
   "source": [
    "print(data.isnull().sum())\n"
   ]
  },
  {
   "cell_type": "code",
   "execution_count": 20,
   "id": "b456ab72",
   "metadata": {},
   "outputs": [
    {
     "name": "stdout",
     "output_type": "stream",
     "text": [
      "admit       float32\n",
      "gre         float32\n",
      "gpa         float32\n",
      "rank_2.0       bool\n",
      "rank_3.0       bool\n",
      "rank_4.0       bool\n",
      "dtype: object\n"
     ]
    }
   ],
   "source": [
    "print(data.dtypes)\n"
   ]
  },
  {
   "cell_type": "code",
   "execution_count": 21,
   "id": "e52c2380",
   "metadata": {},
   "outputs": [
    {
     "name": "stdout",
     "output_type": "stream",
     "text": [
      "admit       float32\n",
      "gre         float32\n",
      "gpa         float32\n",
      "rank_2.0      int32\n",
      "rank_3.0      int32\n",
      "rank_4.0      int32\n",
      "dtype: object\n"
     ]
    }
   ],
   "source": [
    "# Convert boolean columns to int (0/1)\n",
    "for col in ['rank_2.0', 'rank_3.0', 'rank_4.0']:\n",
    "    data[col] = data[col].astype(int)\n",
    "\n",
    "print(data.dtypes)  # verify they are now int\n"
   ]
  },
  {
   "cell_type": "code",
   "execution_count": 22,
   "id": "7c7787b2",
   "metadata": {},
   "outputs": [
    {
     "name": "stdout",
     "output_type": "stream",
     "text": [
      "Optimization terminated successfully.\n",
      "         Current function value: 0.573147\n",
      "         Iterations 6\n",
      "                           Logit Regression Results                           \n",
      "==============================================================================\n",
      "Dep. Variable:                  admit   No. Observations:                  400\n",
      "Model:                          Logit   Df Residuals:                      394\n",
      "Method:                           MLE   Df Model:                            5\n",
      "Date:                Sat, 13 Sep 2025   Pseudo R-squ.:                 0.08292\n",
      "Time:                        21:51:43   Log-Likelihood:                -229.26\n",
      "converged:                       True   LL-Null:                       -249.99\n",
      "Covariance Type:            nonrobust   LLR p-value:                 7.578e-08\n",
      "==============================================================================\n",
      "                 coef    std err          z      P>|z|      [0.025      0.975]\n",
      "------------------------------------------------------------------------------\n",
      "const         -3.9900      1.140     -3.500      0.000      -6.224      -1.756\n",
      "gre            0.0023      0.001      2.070      0.038       0.000       0.004\n",
      "gpa            0.8040      0.332      2.423      0.015       0.154       1.454\n",
      "rank_2.0      -0.6754      0.316     -2.134      0.033      -1.296      -0.055\n",
      "rank_3.0      -1.3402      0.345     -3.881      0.000      -2.017      -0.663\n",
      "rank_4.0      -1.5515      0.418     -3.713      0.000      -2.370      -0.733\n",
      "==============================================================================\n"
     ]
    }
   ],
   "source": [
    "X = data[['gre', 'gpa', 'rank_2.0', 'rank_3.0', 'rank_4.0']]\n",
    "X = sm.add_constant(X)\n",
    "y = data['admit']\n",
    "\n",
    "model = sm.Logit(y, X)\n",
    "result = model.fit()\n",
    "\n",
    "print(result.summary())\n"
   ]
  },
  {
   "cell_type": "code",
   "execution_count": null,
   "id": "58df7bf5",
   "metadata": {},
   "outputs": [],
   "source": []
  }
 ],
 "metadata": {
  "kernelspec": {
   "display_name": "Python 3 (ipykernel)",
   "language": "python",
   "name": "python3"
  },
  "language_info": {
   "codemirror_mode": {
    "name": "ipython",
    "version": 3
   },
   "file_extension": ".py",
   "mimetype": "text/x-python",
   "name": "python",
   "nbconvert_exporter": "python",
   "pygments_lexer": "ipython3",
   "version": "3.11.5"
  }
 },
 "nbformat": 4,
 "nbformat_minor": 5
}
